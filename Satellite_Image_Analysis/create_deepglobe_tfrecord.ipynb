{
 "cells": [
  {
   "cell_type": "code",
   "execution_count": 1,
   "id": "8d443c89",
   "metadata": {},
   "outputs": [],
   "source": [
    "import tensorflow as tf\n",
    "import numpy as np\n",
    "import matplotlib.pyplot as plt\n",
    "import os\n",
    "from tqdm import tqdm"
   ]
  },
  {
   "cell_type": "code",
   "execution_count": 2,
   "id": "9e9234d5",
   "metadata": {},
   "outputs": [],
   "source": [
    "img_dir_path = 'D:/Machine_Learning_DATA_Project/Deep Globe/reshaped_1024/train/images/'\n",
    "mask_dir_path = 'D:/Machine_Learning_DATA_Project/Deep Globe/reshaped_1024/train/masks/'\n",
    "outfile = 'D:/Machine_Learning_DATA_Project/Deep Globe/reshaped_1024/train/tfrecord/deepglobe_train.tfrecord'\n",
    "img_names = sorted(os.listdir(img_dir_path))\n",
    "mask_names = sorted(os.listdir(mask_dir_path))"
   ]
  },
  {
   "cell_type": "code",
   "execution_count": 3,
   "id": "2eeb8ced",
   "metadata": {},
   "outputs": [],
   "source": [
    "def create_example(img_path,mask_path):\n",
    "    img = tf.io.read_file(img_dir_path + img_path)\n",
    "    decode_img = tf.io.decode_jpeg(img,channels=3)\n",
    "    encode_img = tf.io.encode_jpeg(decode_img)\n",
    "    \n",
    "    mask = tf.io.read_file(mask_dir_path + mask_path)\n",
    "    decode_mask = tf.io.decode_jpeg(mask,channels=3)\n",
    "    encode_mask = tf.io.encode_jpeg(decode_mask)\n",
    "    \n",
    "    feature = {\n",
    "        'image' : tf.train.Feature(bytes_list=tf.train.BytesList(value=[encode_img.numpy()])),\n",
    "        'mask' : tf.train.Feature(bytes_list=tf.train.BytesList(value=[encode_mask.numpy()]))\n",
    "    }\n",
    "    \n",
    "    example = tf.train.Example(features=tf.train.Features(feature=feature))\n",
    "    return example\n",
    "    "
   ]
  },
  {
   "cell_type": "code",
   "execution_count": 5,
   "id": "ce759a2f",
   "metadata": {},
   "outputs": [],
   "source": [
    "def create_tfrecord(outfile,dataset):\n",
    "    with tf.io.TFRecordWriter(outfile) as writer:\n",
    "        for img_path,mask_path in tqdm(dataset,desc='writing_tfrecord',unit=' examples'):\n",
    "            \n",
    "            tf_example = create_example(img_path,mask_path)\n",
    "            writer.write(tf_example.SerializeToString())"
   ]
  },
  {
   "cell_type": "code",
   "execution_count": 6,
   "id": "6cc6172f",
   "metadata": {},
   "outputs": [],
   "source": [
    "zipped = zip(img_names,mask_names)"
   ]
  },
  {
   "cell_type": "code",
   "execution_count": 7,
   "id": "a3348f56",
   "metadata": {},
   "outputs": [
    {
     "name": "stderr",
     "output_type": "stream",
     "text": [
      "writing_tfrecord: 12848 examples [03:55, 54.65 examples/s]\n"
     ]
    }
   ],
   "source": [
    "create_tfrecord(outfile,zipped)"
   ]
  },
  {
   "cell_type": "code",
   "execution_count": null,
   "id": "30231620",
   "metadata": {},
   "outputs": [],
   "source": [
    "def parsh(example_proto):\n",
    "    feature_keys = {\n",
    "        'image' : tf.io.FixedLenFeature([],tf.string),\n",
    "        'mask' : tf.io.FixedLenFeature([],tf.string)\n",
    "    }\n",
    "    \n",
    "    example = tf.io.parse_single_example(example_proto, feature_keys)\n",
    "    \n",
    "    img = tf.io.decode_image(example['image'],channels=3)\n",
    "    img = tf.reshape(img,(256,256,3))\n",
    "    \n",
    "    mask = tf.io.decode_image(example['mask'],channels=3)\n",
    "    mask = tf.reshape(mask,(256,256,3))\n",
    "    return img,mask"
   ]
  },
  {
   "cell_type": "code",
   "execution_count": null,
   "id": "8bf9a2fe",
   "metadata": {},
   "outputs": [],
   "source": [
    "train_file = outfile\n",
    "dataset = tf.data.TFRecordDataset(train_file)\n",
    "dataset = dataset.map(parsh)\n",
    "batch_size=1\n",
    "dataset = dataset.batch(batch_size)\n",
    "dataset = dataset.shuffle(buffer_size=100)\n",
    "dataset = dataset.prefetch(buffer_size=tf.data.experimental.AUTOTUNE)"
   ]
  }
 ],
 "metadata": {
  "kernelspec": {
   "display_name": "Python 3 (ipykernel)",
   "language": "python",
   "name": "python3"
  },
  "language_info": {
   "codemirror_mode": {
    "name": "ipython",
    "version": 3
   },
   "file_extension": ".py",
   "mimetype": "text/x-python",
   "name": "python",
   "nbconvert_exporter": "python",
   "pygments_lexer": "ipython3",
   "version": "3.9.7"
  }
 },
 "nbformat": 4,
 "nbformat_minor": 5
}
