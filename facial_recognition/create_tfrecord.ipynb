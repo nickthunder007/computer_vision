{
 "cells": [
  {
   "cell_type": "code",
   "execution_count": 2,
   "id": "c20fc02f",
   "metadata": {},
   "outputs": [],
   "source": [
    "import tensorflow as tf\n",
    "import numpy as np\n",
    "from matplotlib import pyplot as plt\n",
    "import os\n",
    "import pandas as pd\n",
    "from tqdm import tqdm"
   ]
  },
  {
   "cell_type": "code",
   "execution_count": 3,
   "id": "8fb52c3b",
   "metadata": {},
   "outputs": [],
   "source": [
    "dir_path = 'D:/celebA/'\n",
    "i_path = 'img_align_celeba/img_align_celeba/'\n",
    "landscap_label_path = 'list_landmarks_align_celeba.csv'\n",
    "bbox_label_path = 'list_bbox_celeba.csv'\n",
    "att_label_path = 'list_attr_celeba.csv'"
   ]
  },
  {
   "cell_type": "code",
   "execution_count": 4,
   "id": "947c4fc3",
   "metadata": {},
   "outputs": [],
   "source": [
    "landscap_df = pd.read_csv(dir_path + landscap_label_path)\n",
    "bbox_df = pd.read_csv(dir_path + bbox_label_path)\n",
    "att_df = pd.read_csv(dir_path + att_label_path)"
   ]
  },
  {
   "cell_type": "code",
   "execution_count": 5,
   "id": "2a4bec6f",
   "metadata": {},
   "outputs": [],
   "source": [
    "outfile = dir_path + 'test_celebA2.tfrecord'"
   ]
  },
  {
   "cell_type": "code",
   "execution_count": 6,
   "id": "775e7fef",
   "metadata": {},
   "outputs": [],
   "source": [
    "landscap_dataset = np.array(landscap_df)\n",
    "bbox_dataset = np.array(bbox_df)\n",
    "att_dataset = np.array(att_df)\n",
    "np.random.seed(42)\n",
    "np.random.shuffle(landscap_dataset)\n",
    "data_size = len(landscap_dataset)\n",
    "train_size = 0.7\n",
    "train_dataset = landscap_dataset[0:int(data_size*train_size)]\n",
    "test_dataset = landscap_dataset[int(data_size*train_size):]"
   ]
  },
  {
   "cell_type": "code",
   "execution_count": 7,
   "id": "687833da",
   "metadata": {},
   "outputs": [],
   "source": [
    "def create_tfrecord(tfrecord_filename, landscap_data,bbox_data,att_data):\n",
    "    with tf.io.TFRecordWriter(tfrecord_filename) as writer:\n",
    "        for data_point in tqdm(landscap_data, desc=\"Writing TFRecord\", unit=\"examples\"):\n",
    "            img_path = dir_path + i_path + data_point[0]\n",
    "            idx = int(data_point[0][:-4])\n",
    "            landscaps = data_point[1:]\n",
    "            bboxs = bbox_data[idx][1:]\n",
    "            atts = att_data[idx][1:]\n",
    "            \n",
    "            tf_example = create_tfrecord_example(img_path,landscaps,bboxs,atts)\n",
    "            writer.write(tf_example.SerializeToString())\n",
    "\n",
    "def create_tfrecord_example(img_path,landscaps,bboxs,attributes):\n",
    "    image = tf.io.read_file(img_path)\n",
    "    decode_img = tf.io.decode_jpeg(image, channels=3)\n",
    "    encoded_image = tf.io.encode_jpeg(decode_img)\n",
    "\n",
    "    feature = {\n",
    "        'image': tf.train.Feature(bytes_list=tf.train.BytesList(value=[encoded_image.numpy()])),\n",
    "        'landscapes': tf.train.Feature(float_list=tf.train.FloatList(value=landscaps)),\n",
    "        'bboxs' : tf.train.Feature(float_list=tf.train.FloatList(value=bboxs)),\n",
    "        'attributes' : tf.train.Feature(float_list=tf.train.FloatList(value=attributes))\n",
    "        \n",
    "    }\n",
    "\n",
    "    example = tf.train.Example(features=tf.train.Features(feature=feature))\n",
    "    return example\n",
    "\n",
    "\n"
   ]
  },
  {
   "cell_type": "code",
   "execution_count": 8,
   "id": "e5ba4e16",
   "metadata": {},
   "outputs": [
    {
     "name": "stderr",
     "output_type": "stream",
     "text": [
      "Writing TFRecord: 100%|██████████| 60780/60780 [1:21:17<00:00, 12.46examples/s]  \n"
     ]
    }
   ],
   "source": [
    "create_tfrecord(outfile,test_dataset,bbox_dataset,att_dataset)"
   ]
  },
  {
   "cell_type": "code",
   "execution_count": null,
   "id": "71fa70dd",
   "metadata": {},
   "outputs": [],
   "source": [
    "def parse(example_proto):\n",
    "    feature_keys = {\n",
    "        'image': tf.io.FixedLenFeature([], tf.string),\n",
    "        'landscapes' : tf.io.FixedLenFeature([10],tf.float32),\n",
    "        'bboxs' : tf.io.FixedLenFeature([4],tf.float32),\n",
    "        'attributes' : tf.io.FixedLenFeature([40],tf.float32)\n",
    "        \n",
    "    }\n",
    "\n",
    "    example = tf.io.parse_single_example(example_proto, feature_keys)\n",
    "    image = tf.io.decode_image(example['image'], channels=3)\n",
    "    image = tf.reshape(image, (218,178,3)) \n",
    "    \n",
    "    landscaps = example['landscapes']\n",
    "    bboxs = example['bboxs']\n",
    "    atts = example['attributes']\n",
    "    \n",
    "    dataset = {'img' : image,\n",
    "               'landscaps' : landscaps,\n",
    "               'bbox' : bboxs,\n",
    "               'attributes' : atts\n",
    "        \n",
    "    }\n",
    "    \n",
    "    return dataset\n"
   ]
  },
  {
   "cell_type": "code",
   "execution_count": null,
   "id": "b25bf747",
   "metadata": {},
   "outputs": [],
   "source": [
    "train_file = outfile \n",
    "dataset = tf.data.TFRecordDataset(train_file)\n",
    "dataset = dataset.map(parse)\n",
    "batch_size=1\n",
    "dataset = dataset.batch(batch_size)\n",
    "dataset = dataset.shuffle(buffer_size=10000)\n",
    "dataset = dataset.prefetch(buffer_size=tf.data.experimental.AUTOTUNE)\n",
    "train_dataset = iter(dataset)"
   ]
  },
  {
   "cell_type": "code",
   "execution_count": null,
   "id": "99ec692d",
   "metadata": {},
   "outputs": [],
   "source": [
    "batch = next(train_dataset)"
   ]
  },
  {
   "cell_type": "code",
   "execution_count": null,
   "id": "c398df89",
   "metadata": {},
   "outputs": [],
   "source": [
    "batch.keys()"
   ]
  },
  {
   "cell_type": "code",
   "execution_count": null,
   "id": "fc7eeeee",
   "metadata": {},
   "outputs": [],
   "source": [
    "plt.imshow(batch['img'][0])\n",
    "plt.scatter(batch['landscaps'][0][::2],batch['landscaps'][0][1::2])"
   ]
  }
 ],
 "metadata": {
  "kernelspec": {
   "display_name": "Python 3 (ipykernel)",
   "language": "python",
   "name": "python3"
  },
  "language_info": {
   "codemirror_mode": {
    "name": "ipython",
    "version": 3
   },
   "file_extension": ".py",
   "mimetype": "text/x-python",
   "name": "python",
   "nbconvert_exporter": "python",
   "pygments_lexer": "ipython3",
   "version": "3.9.7"
  }
 },
 "nbformat": 4,
 "nbformat_minor": 5
}
